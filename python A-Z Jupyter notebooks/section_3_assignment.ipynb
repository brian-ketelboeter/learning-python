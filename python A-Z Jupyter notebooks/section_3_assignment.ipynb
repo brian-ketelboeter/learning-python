{
 "cells": [
  {
   "cell_type": "code",
   "execution_count": 1,
   "metadata": {},
   "outputs": [],
   "source": [
    "#attempt to improve assignment 2\n",
    "import numpy as np\n",
    "revenue = [14574.49, 7606.46, 8611.41, 9175.41, 8058.65, 8105.44, 11496.28, 9766.09, 10305.32, 14379.96, 10713.97, 15433.50]\n",
    "expenses = [12051.82, 5695.07, 12319.20, 12089.72, 8658.57, 840.20, 3285.73, 5821.12, 6976.93, 16618.61, 10054.37, 3803.96]\n",
    "\n",
    "rev_array = np.array(revenue)\n",
    "exp_array = np.array(expenses)"
   ]
  },
  {
   "cell_type": "code",
   "execution_count": 2,
   "metadata": {},
   "outputs": [
    {
     "name": "stdout",
     "output_type": "stream",
     "text": [
      "[ 2522.67  1911.39 -3707.79 -2914.31  -599.92  7265.24  8210.55  3944.97\n",
      "  3328.39 -2238.65   659.6  11629.54]\n"
     ]
    }
   ],
   "source": [
    "profits = []\n",
    "for k in range(len(revenue)):\n",
    "    profits.append(rev_array[k]- exp_array[k])\n",
    "prof_array = np.array(profits)\n",
    "print(prof_array)"
   ]
  },
  {
   "cell_type": "code",
   "execution_count": 3,
   "metadata": {},
   "outputs": [],
   "source": [
    "#pat= profit after taxes\n",
    "pat = []\n",
    "for k in range(len(prof_array)):\n",
    "    pat.append(.7*prof_array[k])\n",
    "pat_array = np.array(pat)"
   ]
  },
  {
   "cell_type": "code",
   "execution_count": 4,
   "metadata": {},
   "outputs": [
    {
     "name": "stdout",
     "output_type": "stream",
     "text": [
      "1750.6813333333332\n"
     ]
    }
   ],
   "source": [
    "AVG_pat = np.average(pat_array)\n",
    "print(AVG_pat)"
   ]
  },
  {
   "cell_type": "code",
   "execution_count": 11,
   "metadata": {},
   "outputs": [
    {
     "name": "stdout",
     "output_type": "stream",
     "text": [
      "[ 12  18 -30 -22  -5  63  50  28  23 -11   4  53]\n"
     ]
    }
   ],
   "source": [
    "#creating profit margin array \n",
    "def percentage(num1, num2):\n",
    "    return int(round(100*num1/num2,0))\n",
    "\n",
    "prof_marg = []\n",
    "for k in range(len(pat_array)):\n",
    "    pat = percentage(pat_array[k],rev_array[k])\n",
    "    prof_marg.append(pat)\n",
    "prof_marg_array = np.array(prof_marg)\n",
    "print(prof_marg_array)"
   ]
  },
  {
   "cell_type": "code",
   "execution_count": 10,
   "metadata": {},
   "outputs": [
    {
     "name": "stdout",
     "output_type": "stream",
     "text": [
      "[  15    0    0    0    0 3335 3997 1011  579    0    0 6390]\n",
      "[    0  -413 -4346 -3791 -2171     0     0     0     0 -3318 -1289     0]\n"
     ]
    }
   ],
   "source": [
    "good_months = []\n",
    "bad_months = []\n",
    "for k in range(len(prof_array)):\n",
    "    good_months.append(int(round(max(0, pat_array[k]- AVG_pat),0)))\n",
    "    bad_months.append(int(round(min(0,pat_array[k]-AVG_pat),0)))\n",
    "good_months_array = np.array(good_months)\n",
    "bad_months_array = np.array(bad_months)\n",
    "print(good_months_array)\n",
    "print(bad_months_array)"
   ]
  },
  {
   "cell_type": "code",
   "execution_count": 7,
   "metadata": {},
   "outputs": [
    {
     "name": "stdout",
     "output_type": "stream",
     "text": [
      "0 good month\n",
      "1 bad month\n",
      "2 bad month\n",
      "3 bad month\n",
      "4 bad month\n",
      "5 good month\n",
      "6 good month\n",
      "7 good month\n",
      "8 good month\n",
      "9 bad month\n",
      "10 bad month\n",
      "11 good month\n"
     ]
    }
   ],
   "source": [
    "for k in range(len(prof_array)):\n",
    "    if pat_array[k] - AVG_pat > 0:\n",
    "        print(k, \"good month\")\n",
    "    elif pat_array[k] -AVG_pat < 0:\n",
    "        print(k, \"bad month\")\n",
    "    else:\n",
    "        print(k, \"average month\")"
   ]
  },
  {
   "cell_type": "code",
   "execution_count": 9,
   "metadata": {},
   "outputs": [
    {
     "name": "stdout",
     "output_type": "stream",
     "text": [
      "8141 maximum profit after tax\n",
      "-2595 minimum profit after tax\n"
     ]
    }
   ],
   "source": [
    "pat_max = np.max(pat_array)\n",
    "pat_min = np.min(pat_array)\n",
    "print(int(round(pat_max,0)), \"maximum profit after tax\")\n",
    "print(int(round(pat_min,0)), \"minimum profit after tax\")"
   ]
  },
  {
   "cell_type": "code",
   "execution_count": 15,
   "metadata": {},
   "outputs": [
    {
     "data": {
      "text/plain": [
       "[False,\n",
       " False,\n",
       " False,\n",
       " False,\n",
       " False,\n",
       " False,\n",
       " False,\n",
       " False,\n",
       " False,\n",
       " False,\n",
       " False,\n",
       " True]"
      ]
     },
     "execution_count": 15,
     "metadata": {},
     "output_type": "execute_result"
    }
   ],
   "source": [
    "profit_after_tax_max = list([])\n",
    "for i in range(len(pat_array)):\n",
    "    profit_after_tax_max.append(pat_array[i] == max(pat_array))\n",
    "profit_after_tax_max"
   ]
  },
  {
   "cell_type": "code",
   "execution_count": 16,
   "metadata": {},
   "outputs": [
    {
     "data": {
      "text/plain": [
       "[False,\n",
       " False,\n",
       " True,\n",
       " False,\n",
       " False,\n",
       " False,\n",
       " False,\n",
       " False,\n",
       " False,\n",
       " False,\n",
       " False,\n",
       " False]"
      ]
     },
     "execution_count": 16,
     "metadata": {},
     "output_type": "execute_result"
    }
   ],
   "source": [
    "profit_after_tax_min = list([])\n",
    "for i in range(len(pat_array)):\n",
    "    profit_after_tax_min.append(pat_array[i] == min(pat_array))\n",
    "profit_after_tax_min"
   ]
  },
  {
   "cell_type": "code",
   "execution_count": 22,
   "metadata": {},
   "outputs": [
    {
     "name": "stdout",
     "output_type": "stream",
     "text": [
      "[15, 8, 9, 9, 8, 8, 11, 10, 10, 14, 11, 15]\n",
      "[12, 6, 12, 12, 9, 1, 3, 6, 7, 17, 10, 4]\n",
      "[3, 2, -4, -3, -1, 7, 8, 4, 3, -2, 1, 12]\n"
     ]
    }
   ],
   "source": [
    "def number_in_thousands(value):\n",
    "    return int(round(value/1000,0))\n",
    "revenue_1000 = [number_in_thousands(i) for i in revenue]\n",
    "expenses_1000 = [number_in_thousands(i) for i in expenses]\n",
    "profit_array_1000= [number_in_thousands(i) for i in prof_array]\n",
    "\n",
    "print(revenue_1000)\n",
    "print(expenses_1000)\n",
    "print(profit_array_1000)\n"
   ]
  },
  {
   "cell_type": "code",
   "execution_count": null,
   "metadata": {},
   "outputs": [],
   "source": []
  }
 ],
 "metadata": {
  "kernelspec": {
   "display_name": "Python 3",
   "language": "python",
   "name": "python3"
  },
  "language_info": {
   "codemirror_mode": {
    "name": "ipython",
    "version": 3
   },
   "file_extension": ".py",
   "mimetype": "text/x-python",
   "name": "python",
   "nbconvert_exporter": "python",
   "pygments_lexer": "ipython3",
   "version": "3.7.6"
  }
 },
 "nbformat": 4,
 "nbformat_minor": 4
}
