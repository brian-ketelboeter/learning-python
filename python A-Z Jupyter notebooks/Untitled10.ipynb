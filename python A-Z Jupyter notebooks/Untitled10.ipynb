{
 "cells": [
  {
   "cell_type": "code",
   "execution_count": 1,
   "metadata": {},
   "outputs": [],
   "source": [
    "#attempt to improve assignment 2\n",
    "import numpy as np\n",
    "revenue = [14574.49, 7606.46, 8611.41, 9175.41, 8058.65, 8105.44, 11496.28, 9766.09, 10305.32, 14379.96, 10713.97, 15433.50]\n",
    "expenses = [12051.82, 5695.07, 12319.20, 12089.72, 8658.57, 840.20, 3285.73, 5821.12, 6976.93, 16618.61, 10054.37, 3803.96]\n",
    "\n",
    "rev_array = np.array(revenue)\n",
    "exp_array = np.array(expenses)"
   ]
  },
  {
   "cell_type": "code",
   "execution_count": 4,
   "metadata": {},
   "outputs": [
    {
     "name": "stdout",
     "output_type": "stream",
     "text": [
      "[ 2522.67  1911.39 -3707.79 -2914.31  -599.92  7265.24  8210.55  3944.97\n",
      "  3328.39 -2238.65   659.6  11629.54]\n"
     ]
    }
   ],
   "source": [
    "profits = []\n",
    "for k in range(len(revenue)):\n",
    "    profits.append(rev_array[k]- exp_array[k])\n",
    "prof_array = np.array(profits)\n",
    "print(prof_array)"
   ]
  },
  {
   "cell_type": "code",
   "execution_count": 5,
   "metadata": {},
   "outputs": [],
   "source": [
    "#pat= profit after taxes\n",
    "pat = []\n",
    "for k in range(len(prof_array)):\n",
    "    pat.append(.7*prof_array[k])\n",
    "pat_array = np.array(pat)"
   ]
  },
  {
   "cell_type": "code",
   "execution_count": 6,
   "metadata": {},
   "outputs": [
    {
     "name": "stdout",
     "output_type": "stream",
     "text": [
      "1750.6813333333332\n"
     ]
    }
   ],
   "source": [
    "AVG_pat = np.average(pat_array)\n",
    "print(AVG_pat)"
   ]
  },
  {
   "cell_type": "code",
   "execution_count": 7,
   "metadata": {},
   "outputs": [
    {
     "name": "stdout",
     "output_type": "stream",
     "text": [
      "[ 0.12116163  0.17589956 -0.30139698 -0.22233524 -0.05211096  0.62743886\n",
      "  0.49993433  0.28276199  0.22608449 -0.10897492  0.04309514  0.52746804]\n"
     ]
    }
   ],
   "source": [
    "#creating profit margin array \n",
    "prof_marg = []\n",
    "for k in range(len(pat_array)):\n",
    "    prof_marg.append(pat_array[k]/rev_array[k])\n",
    "prof_marg_array = np.array(prof_marg)\n",
    "print(prof_marg_array)"
   ]
  },
  {
   "cell_type": "code",
   "execution_count": null,
   "metadata": {},
   "outputs": [],
   "source": []
  }
 ],
 "metadata": {
  "kernelspec": {
   "display_name": "Python 3",
   "language": "python",
   "name": "python3"
  },
  "language_info": {
   "codemirror_mode": {
    "name": "ipython",
    "version": 3
   },
   "file_extension": ".py",
   "mimetype": "text/x-python",
   "name": "python",
   "nbconvert_exporter": "python",
   "pygments_lexer": "ipython3",
   "version": "3.7.6"
  }
 },
 "nbformat": 4,
 "nbformat_minor": 4
}
