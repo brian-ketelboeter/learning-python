{
 "cells": [
  {
   "cell_type": "code",
   "execution_count": 1,
   "metadata": {},
   "outputs": [],
   "source": [
    "import numpy as np"
   ]
  },
  {
   "cell_type": "code",
   "execution_count": 2,
   "metadata": {},
   "outputs": [],
   "source": [
    "from numpy.random import randn"
   ]
  },
  {
   "cell_type": "code",
   "execution_count": 13,
   "metadata": {},
   "outputs": [],
   "source": [
    "x = randn()\n",
    "if x> 1:\n",
    "    print(\"Greater than one\")\n",
    "    print(x)"
   ]
  },
  {
   "cell_type": "code",
   "execution_count": null,
   "metadata": {},
   "outputs": [],
   "source": []
  },
  {
   "cell_type": "code",
   "execution_count": 26,
   "metadata": {},
   "outputs": [
    {
     "name": "stdout",
     "output_type": "stream",
     "text": [
      "Between -1 and 1\n",
      "0.12104054524241678\n"
     ]
    }
   ],
   "source": [
    "x = randn()\n",
    "if x> 1:\n",
    "    print(\"Greater than one\")\n",
    "    print(x)\n",
    "else:\n",
    "    if -1 < x <1:\n",
    "        print(\"Between -1 and 1\")\n",
    "        print(x)\n",
    "    else:\n",
    "        print(\"Less than -1\")\n",
    "        print(x)"
   ]
  },
  {
   "cell_type": "code",
   "execution_count": null,
   "metadata": {},
   "outputs": [],
   "source": [
    " "
   ]
  },
  {
   "cell_type": "code",
   "execution_count": 45,
   "metadata": {},
   "outputs": [
    {
     "name": "stdout",
     "output_type": "stream",
     "text": [
      "Less than -1\n",
      "-1.7747081416814252\n"
     ]
    }
   ],
   "source": [
    "x = randn()\n",
    "if x> 1:\n",
    "    print(\"Greater than one\")\n",
    "    \n",
    "elif -1 < x <1:\n",
    "    print(\"Between -1 and 1\")\n",
    "    \n",
    "else:\n",
    "    print(\"Less than -1\")\n",
    "print(x)"
   ]
  }
 ],
 "metadata": {
  "kernelspec": {
   "display_name": "Python 3",
   "language": "python",
   "name": "python3"
  },
  "language_info": {
   "codemirror_mode": {
    "name": "ipython",
    "version": 3
   },
   "file_extension": ".py",
   "mimetype": "text/x-python",
   "name": "python",
   "nbconvert_exporter": "python",
   "pygments_lexer": "ipython3",
   "version": "3.7.6"
  }
 },
 "nbformat": 4,
 "nbformat_minor": 4
}
